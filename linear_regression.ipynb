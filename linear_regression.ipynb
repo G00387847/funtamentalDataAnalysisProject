{
 "cells": [
  {
   "cell_type": "markdown",
   "metadata": {},
   "source": [
    "# Fundamental Data Analysis Project 2020\n",
    "****\n",
    "\n",
    "## Author - Bonny Chimezie Nwosu(G00387847@gmit.ie)\n",
    "\n",
    "\n"
   ]
  },
  {
   "cell_type": "markdown",
   "metadata": {},
   "source": [
    "In this project you must perform and explain simple linear regression using Python\n",
    "on the powerproduction dataset available on Moodle. The goal is to accurately predict wind turbine power output from wind speed values using the data set as a basis.\n",
    "Your submission must be in the form of a git repository containing, at a minimum, the\n",
    "following items:\n",
    "1. Jupyter notebook that performs simple linear regression on the data set.\n",
    "2. In that notebook, an explanation of your regression and an analysis of its accuracy.\n",
    "3. Standard items in a git repository such as a README.\n",
    "To enhance your submission, you might consider comparing simple linear regression to\n",
    "other types of regression on this data set. Rest assured, all the above concepts will be\n",
    "explored in lecture videos and other materials in the coming semester.\n",
    "***\n",
    "\n",
    "# Soluton"
   ]
  },
  {
   "cell_type": "code",
   "execution_count": null,
   "metadata": {},
   "outputs": [],
   "source": []
  }
 ],
 "metadata": {
  "kernelspec": {
   "display_name": "Python 3",
   "language": "python",
   "name": "python3"
  },
  "language_info": {
   "codemirror_mode": {
    "name": "ipython",
    "version": 3
   },
   "file_extension": ".py",
   "mimetype": "text/x-python",
   "name": "python",
   "nbconvert_exporter": "python",
   "pygments_lexer": "ipython3",
   "version": "3.8.3"
  }
 },
 "nbformat": 4,
 "nbformat_minor": 4
}
